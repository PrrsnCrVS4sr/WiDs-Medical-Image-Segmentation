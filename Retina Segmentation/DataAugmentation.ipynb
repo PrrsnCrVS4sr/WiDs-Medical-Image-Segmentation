{
 "cells": [
  {
   "cell_type": "code",
   "execution_count": 1,
   "id": "cf1309ac",
   "metadata": {},
   "outputs": [],
   "source": [
    "import os\n",
    "import numpy as np\n",
    "import cv2\n",
    "from glob import glob\n",
    "from tqdm import tqdm\n",
    "import imageio\n",
    "from albumentations import HorizontalFlip, VerticalFlip, ElasticTransform, GridDistortion, OpticalDistortion\n",
    "from utils import load_data"
   ]
  },
  {
   "cell_type": "code",
   "execution_count": 2,
   "id": "d51a43d7",
   "metadata": {},
   "outputs": [],
   "source": [
    "def create_dir(path):\n",
    "    if not os.path.exists(path):\n",
    "        os.makedirs(path)\n",
    "\n",
    "def augment_data(images,masks,save_path,i_format,m_format,augment=True):\n",
    "    H = W = 512\n",
    "    \n",
    "    for idx, (x, y) in tqdm(enumerate(zip(images,masks))):\n",
    "        name = x.split(\"\\\\\")[-1].split('.')[0]\n",
    "        \n",
    "        if i_format == 'gif':\n",
    "            x = imageio.mimread(x)[0]\n",
    "        else:\n",
    "            x = cv2.imread(x, cv2.IMREAD_COLOR)\n",
    "        if m_format == 'gif':\n",
    "            y = imageio.mimread(y)[0]\n",
    "        else:\n",
    "            y = cv2.imread(y, cv2.IMREAD_COLOR)\n",
    "            \n",
    "        \n",
    "        if augment:\n",
    "            aug = HorizontalFlip(p=1.0)\n",
    "            augmented = aug(image=x,mask=y)\n",
    "            x1 = augmented['image']\n",
    "            y1 = augmented['mask']\n",
    "            \n",
    "            aug = VerticalFlip(p=1.0)\n",
    "            augmented = aug(image=x,mask=y)\n",
    "            x2 = augmented['image']\n",
    "            y2 = augmented['mask']\n",
    "            \n",
    "            aug = ElasticTransform(p=1.0)\n",
    "            augmented = aug(image=x,mask=y)\n",
    "            x3 = augmented['image']\n",
    "            y3 = augmented['mask']\n",
    "            \n",
    "            aug = GridDistortion(p=1.0)\n",
    "            augmented = aug(image=x,mask=y)\n",
    "            x4 = augmented['image']\n",
    "            y4 = augmented['mask']\n",
    "            \n",
    "            aug = OpticalDistortion(p=1.0)\n",
    "            augmented = aug(image=x,mask=y)\n",
    "            x5 = augmented['image']\n",
    "            y5 = augmented['mask']\n",
    "            \n",
    "            X =[x,x1,x2,x3,x4,x5]\n",
    "            Y = [y,y1,y2,y3,y4,y5]\n",
    "        else:\n",
    "            X = [x]\n",
    "            Y = [y]\n",
    "        \n",
    "        for index,(i,m) in enumerate(zip(X,Y)):\n",
    "            i = cv2.resize(i, (W,H))\n",
    "            m = cv2.resize(m, (W,H))\n",
    "            \n",
    "            if len(X) == 1:\n",
    "                tmp_image_name = f\"{name}.jpg\"\n",
    "                tmp_mask_name = f\"{name}.jpg\"\n",
    "            else:\n",
    "                tmp_image_name = f\"{name}_{index}.jpg\"\n",
    "                tmp_mask_name = f\"{name}_{index}.jpg\"\n",
    "            \n",
    "            image_path = os.path.join(save_path,\"image\",tmp_image_name)\n",
    "            mask_path = os.path.join(save_path,\"mask\",tmp_mask_name)\n",
    "            cv2.imwrite(image_path,i)\n",
    "            cv2.imwrite(mask_path,m)"
   ]
  },
  {
   "cell_type": "code",
   "execution_count": 3,
   "id": "337397ea",
   "metadata": {},
   "outputs": [],
   "source": [
    "data_path_1 = \"DRIVE\"\n",
    "data_path_2 = \"CHASE\"\n",
    "data_path_3 = \"RETA\"\n",
    "data_path_4 = \"HRF\"\n",
    "data_path_5 = \"STARE\""
   ]
  },
  {
   "cell_type": "code",
   "execution_count": 4,
   "id": "3d215359",
   "metadata": {},
   "outputs": [],
   "source": [
    "save_path_train = \"new_data_2/training\"\n",
    "save_path_test = \"new_data_2/test\""
   ]
  },
  {
   "cell_type": "markdown",
   "id": "f36d0108",
   "metadata": {},
   "source": [
    "# Augment DRIVE Dataset"
   ]
  },
  {
   "cell_type": "code",
   "execution_count": 5,
   "id": "878f3d44",
   "metadata": {},
   "outputs": [],
   "source": [
    "train_X, train_Y, test_X, test_Y = load_data(data_path_1,\n",
    "                                             images_folder=\"images\",\n",
    "                                             masks_folder=\"1st_manual\"\n",
    "                                             ,i_format='tif',\n",
    "                                             m_format='gif')"
   ]
  },
  {
   "cell_type": "code",
   "execution_count": 6,
   "id": "b204beea",
   "metadata": {},
   "outputs": [],
   "source": [
    "create_dir(\"new_data_2/training/image\")\n",
    "create_dir(\"new_data_2/training/mask\")\n",
    "create_dir(\"new_data_2/test/image\")\n",
    "create_dir(\"new_data_2/test/mask\")"
   ]
  },
  {
   "cell_type": "code",
   "execution_count": 7,
   "id": "bfa27fb2",
   "metadata": {
    "scrolled": true
   },
   "outputs": [
    {
     "name": "stderr",
     "output_type": "stream",
     "text": [
      "20it [00:09,  2.11it/s]\n"
     ]
    }
   ],
   "source": [
    "augment_data(train_X,train_Y,save_path_train,'tif','gif',True)"
   ]
  },
  {
   "cell_type": "code",
   "execution_count": 8,
   "id": "388402cf",
   "metadata": {
    "scrolled": true
   },
   "outputs": [
    {
     "name": "stderr",
     "output_type": "stream",
     "text": [
      "20it [00:00, 60.72it/s]\n"
     ]
    }
   ],
   "source": [
    "augment_data(test_X,test_Y,save_path_test,'tif','gif',False)"
   ]
  },
  {
   "cell_type": "markdown",
   "id": "f1a5e877",
   "metadata": {},
   "source": [
    "# AUGMENT CHASE Dataset"
   ]
  },
  {
   "cell_type": "code",
   "execution_count": 9,
   "id": "24bc298b",
   "metadata": {},
   "outputs": [],
   "source": [
    "train_X, train_Y, test_X, test_Y = load_data(data_path_2,\n",
    "                                             images_folder=\"images\",\n",
    "                                             masks_folder=\"masks\"\n",
    "                                             ,i_format='jpg',\n",
    "                                             m_format='png')"
   ]
  },
  {
   "cell_type": "code",
   "execution_count": 10,
   "id": "8e4fd283",
   "metadata": {
    "scrolled": true
   },
   "outputs": [
    {
     "name": "stderr",
     "output_type": "stream",
     "text": [
      "28it [00:35,  1.28s/it]\n"
     ]
    }
   ],
   "source": [
    "augment_data(train_X,train_Y,save_path_train,'jpg','png',True)"
   ]
  },
  {
   "cell_type": "markdown",
   "id": "ff7d4e7a",
   "metadata": {},
   "source": [
    "# EXTRACT STARE DATASET FOR TESTING"
   ]
  },
  {
   "cell_type": "code",
   "execution_count": 11,
   "id": "6e6c2c15",
   "metadata": {},
   "outputs": [
    {
     "name": "stderr",
     "output_type": "stream",
     "text": [
      "54it [01:17,  1.43s/it]\n"
     ]
    }
   ],
   "source": [
    "train_X, train_Y, test_X, test_Y = load_data(data_path_3,\n",
    "                                             images_folder=\"images\",\n",
    "                                             masks_folder=\"masks\"\n",
    "                                             ,i_format='jpg',\n",
    "                                             m_format='png')\n",
    "augment_data(train_X,train_Y,save_path_train,'jpg','png',True)"
   ]
  },
  {
   "cell_type": "code",
   "execution_count": 12,
   "id": "f26534f1",
   "metadata": {},
   "outputs": [
    {
     "name": "stderr",
     "output_type": "stream",
     "text": [
      "45it [07:56, 10.59s/it]\n"
     ]
    }
   ],
   "source": [
    "train_X, train_Y, test_X, test_Y = load_data(data_path_4,\n",
    "                                             images_folder=\"images\",\n",
    "                                             masks_folder=\"masks\"\n",
    "                                             ,i_format='jpg',\n",
    "                                             m_format='tif')\n",
    "augment_data(train_X,train_Y,save_path_train,'jpg','tif',True)"
   ]
  },
  {
   "cell_type": "code",
   "execution_count": 13,
   "id": "a77ab41c",
   "metadata": {},
   "outputs": [],
   "source": [
    "train_X, train_Y, test_X, test_Y = load_data(data_path_5,\n",
    "                                             images_folder=\"images\",\n",
    "                                             masks_folder=\"masks\"\n",
    "                                             ,i_format='ppm',\n",
    "                                             m_format='ppm')\n"
   ]
  },
  {
   "cell_type": "code",
   "execution_count": 14,
   "id": "1c27b096",
   "metadata": {},
   "outputs": [
    {
     "name": "stderr",
     "output_type": "stream",
     "text": [
      "20it [00:12,  1.63it/s]\n"
     ]
    }
   ],
   "source": [
    "augment_data(test_X,test_Y,save_path_train,'ppm','ppm',True)"
   ]
  },
  {
   "cell_type": "code",
   "execution_count": null,
   "id": "9483329d",
   "metadata": {},
   "outputs": [],
   "source": []
  },
  {
   "cell_type": "code",
   "execution_count": null,
   "id": "ccca13df",
   "metadata": {},
   "outputs": [],
   "source": []
  },
  {
   "cell_type": "code",
   "execution_count": null,
   "id": "0dde8370",
   "metadata": {},
   "outputs": [],
   "source": []
  }
 ],
 "metadata": {
  "kernelspec": {
   "display_name": "Python 3 (ipykernel)",
   "language": "python",
   "name": "python3"
  },
  "language_info": {
   "codemirror_mode": {
    "name": "ipython",
    "version": 3
   },
   "file_extension": ".py",
   "mimetype": "text/x-python",
   "name": "python",
   "nbconvert_exporter": "python",
   "pygments_lexer": "ipython3",
   "version": "3.10.2"
  }
 },
 "nbformat": 4,
 "nbformat_minor": 5
}
