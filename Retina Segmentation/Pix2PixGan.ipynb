{
 "cells": [
  {
   "cell_type": "code",
   "execution_count": 1,
   "id": "2d209c11",
   "metadata": {},
   "outputs": [
    {
     "name": "stderr",
     "output_type": "stream",
     "text": [
      "C:\\Users\\Rey Schism\\AppData\\Local\\Programs\\Python\\Python310\\lib\\site-packages\\requests\\__init__.py:102: RequestsDependencyWarning: urllib3 (1.26.9) or chardet (5.1.0)/charset_normalizer (2.0.12) doesn't match a supported version!\n",
      "  warnings.warn(\"urllib3 ({}) or chardet ({})/charset_normalizer ({}) doesn't match a supported \"\n"
     ]
    }
   ],
   "source": [
    "import tensorflow as tf\n",
    "from tensorflow.keras.layers import Conv2DTranspose,Conv2D,concatenate,MaxPool2D,Dropout,Lambda,Input, LeakyReLU\n",
    "from tensorflow.keras.models import Model\n",
    "from keras.initializers import RandomNormal\n",
    "from tensorflow.keras.optimizers import Adam\n",
    "from tensorflow.keras.layers import Activation, BatchNormalization, concatenate\n",
    "import numpy as np\n",
    "import cv2\n",
    "import matplotlib.pyplot as plt\n",
    "from utils import pre_process, load_data\n",
    "from tqdm import tqdm\n",
    "from numpy.random import randint"
   ]
  },
  {
   "cell_type": "code",
   "execution_count": 2,
   "id": "a089e888",
   "metadata": {},
   "outputs": [],
   "source": [
    "FOLDER = \"new_data\""
   ]
  },
  {
   "cell_type": "code",
   "execution_count": 3,
   "id": "9934b979",
   "metadata": {},
   "outputs": [],
   "source": [
    "def discriminator(input_shape):\n",
    "    init = RandomNormal(stddev=0.02)\n",
    "    def conv_block(x, in_channels, batch_norm=True):\n",
    "        x = Conv2D(in_channels, (4,4), strides=(2,2), padding='same', kernel_initializer=init)(x)\n",
    "        if batch_norm:\n",
    "            x = BatchNormalization()(x, training=True)\n",
    "        x = BatchNormalization()(x)\n",
    "        x = LeakyReLU(alpha=0.2)(x)\n",
    "        return x\n",
    "    in_src_image = Input(shape=image_shape)\n",
    "    in_target_image = Input(shape=image_shape)\n",
    "    merged = concatenate([in_src_image, in_target_image])\n",
    "    d = conv_block(merged, 64, batch_norm = False)\n",
    "    for i in [128,256,512]:\n",
    "        d = conv_block(d,i)\n",
    "    d = conv_block(d,512)\n",
    "    d = Conv2D(1, (4,4), padding='same', kernel_initializer=init)(d)\n",
    "    patch_out = Activation('sigmoid')(d)\n",
    "    model = Model([in_src_image, in_target_image], patch_out)\n",
    "    opt = Adam(lr=0.0002, beta_1=0.5)\n",
    "    model.compile(loss='binary_crossentropy', optimizer=opt, loss_weights=[0.5])\n",
    "    return model"
   ]
  },
  {
   "cell_type": "code",
   "execution_count": 4,
   "id": "a9991ffa",
   "metadata": {},
   "outputs": [],
   "source": [
    "def generator(image_shape):\n",
    "    init = RandomNormal(stddev=0.02)\n",
    "    def encoder_block(layer_in, n_filters, batchnorm=True):\n",
    "        g = Conv2D(n_filters, (4,4), strides=(2,2), padding='same', kernel_initializer=init)(layer_in)\n",
    "        if batchnorm:\n",
    "            g = BatchNormalization()(g, training=True)\n",
    "        g = LeakyReLU(alpha=0.2)(g)\n",
    "        return g\n",
    "    def decoder_block(layer_in, skip_in, n_filters, dropout=True):\n",
    "        init = RandomNormal(stddev=0.02)\n",
    "        g = Conv2DTranspose(n_filters, (4,4), strides=(2,2), padding='same', kernel_initializer=init)(layer_in)\n",
    "        g = BatchNormalization()(g, training=True)\n",
    "        if dropout:\n",
    "            g = Dropout(0.5)(g, training=True)\n",
    "        g = concatenate([g, skip_in])\n",
    "        g = Activation('relu')(g)\n",
    "        return g\n",
    "    in_image = Input(shape=image_shape)\n",
    "    # encoder model\n",
    "    e1 = encoder_block(in_image, 64, batchnorm=False)\n",
    "    e2 = encoder_block(e1, 128)\n",
    "    e3 = encoder_block(e2, 256)\n",
    "    e4 = encoder_block(e3, 512)\n",
    "    e5 = encoder_block(e4, 512)\n",
    "    e6 = encoder_block(e5, 512)\n",
    "    e7 = encoder_block(e6, 512)\n",
    "    # bottleneck, no batch norm and relu\n",
    "    b = Conv2D(512, (4,4), strides=(2,2), padding='same', kernel_initializer=init)(e7)\n",
    "    b = Activation('relu')(b)\n",
    "    # decoder model\n",
    "    d1 = decoder_block(b, e7, 512)\n",
    "    d2 = decoder_block(d1, e6, 512)\n",
    "    d3 = decoder_block(d2, e5, 512)\n",
    "    d4 = decoder_block(d3, e4, 512, dropout=False)\n",
    "    d5 = decoder_block(d4, e3, 256, dropout=False)\n",
    "    d6 = decoder_block(d5, e2, 128, dropout=False)\n",
    "    d7 = decoder_block(d6, e1, 64, dropout=False)\n",
    "    # output\n",
    "    g = Conv2DTranspose(1, (4,4), strides=(2,2), padding='same', kernel_initializer=init)(d7)\n",
    "    out_image = Activation('tanh')(g)\n",
    "    # define model\n",
    "    model = Model(in_image, out_image)\n",
    "    return model"
   ]
  },
  {
   "cell_type": "code",
   "execution_count": 5,
   "id": "d87c39fa",
   "metadata": {},
   "outputs": [],
   "source": [
    "def gan(generator_model, discriminator_model, image_shape):\n",
    "    discriminator_model.trainable = False\n",
    "    \n",
    "    input_image = Input(shape=image_shape)\n",
    "\n",
    "    pred_label = generator_model(input_image)\n",
    "\n",
    "    dis_output = discriminator_model([input_image, pred_label])\n",
    "    model = Model(inputs = input_image, outputs = [dis_output, pred_label])\n",
    "\n",
    "    opt = Adam(lr=0.0002, beta_1=0.5)\n",
    "    model.compile(loss=['binary_crossentropy', 'mae'], optimizer=opt, loss_weights=[1,100])\n",
    "    return model"
   ]
  },
  {
   "cell_type": "code",
   "execution_count": 6,
   "id": "b866a2a9",
   "metadata": {},
   "outputs": [],
   "source": [
    "def generate_fake_maps(generator_model, real_images, patch_size):\n",
    "    maps = generator_model(real_images)\n",
    "    y = np.zeros((len(maps),patch_size, patch_size, 1))\n",
    "    return maps, y"
   ]
  },
  {
   "cell_type": "code",
   "execution_count": 7,
   "id": "87540ac1",
   "metadata": {},
   "outputs": [],
   "source": [
    "def generate_real_samples(dataset, n_samples, patch_size):\n",
    "    images, masks = dataset\n",
    "\n",
    "    ix = randint(0, images.shape[0], n_samples)\n",
    "    X1, X2 = images[ix], masks[ix]\n",
    "    y = np.ones((n_samples, patch_size, patch_size, 1))\n",
    "    return [X1, X2], y"
   ]
  },
  {
   "cell_type": "code",
   "execution_count": 8,
   "id": "b062c824",
   "metadata": {},
   "outputs": [],
   "source": [
    "train_X, train_y, test_X, test_y = load_data(FOLDER,\"image\",\"mask\",\"jpg\",\"jpg\")"
   ]
  },
  {
   "cell_type": "code",
   "execution_count": 14,
   "id": "037be305",
   "metadata": {},
   "outputs": [],
   "source": [
    "def create_dataset(X,Y):\n",
    "    images = []\n",
    "    masks = []\n",
    "    for idx,(img,mask) in tqdm(enumerate(zip(X,Y))):\n",
    "        x = np.expand_dims(pre_process(cv2.imread(img)),-1)\n",
    "        y = np.expand_dims(cv2.imread(mask, cv2.IMREAD_GRAYSCALE),-1)/127.5 -1\n",
    "        images.append(x)\n",
    "        masks.append(y)\n",
    "    return (np.array(images),np.array(masks))"
   ]
  },
  {
   "cell_type": "code",
   "execution_count": 15,
   "id": "56b75f60",
   "metadata": {
    "scrolled": true
   },
   "outputs": [
    {
     "name": "stderr",
     "output_type": "stream",
     "text": [
      "288it [00:02, 138.49it/s]\n"
     ]
    }
   ],
   "source": [
    "dataset = create_dataset(train_X,train_y)"
   ]
  },
  {
   "cell_type": "code",
   "execution_count": 19,
   "id": "2fc9f578",
   "metadata": {},
   "outputs": [],
   "source": [
    "def summarize_performance(step, g_model, dataset, n_samples=3):\n",
    "    # select a sample of input images\n",
    "    [X_realA, X_realB], _ = generate_real_samples(dataset, n_samples, 1)\n",
    "    # generate a batch of fake samples\n",
    "    X_fakeB, _ = generate_fake_maps(g_model, X_realA, 1)\n",
    "    # scale all pixels from [-1,1] to [0,1]\n",
    "    X_realA = (X_realA + 1) / 2.0\n",
    "    X_realB = (X_realB + 1) / 2.0\n",
    "    X_fakeB = (X_fakeB + 1) / 2.0\n",
    "    # plot real source images\n",
    "    for i in range(n_samples):\n",
    "        plt.subplot(3, n_samples, 1 + i)\n",
    "        plt.axis('off')\n",
    "        plt.imshow(X_realA[i])\n",
    "    # plot generated target image\n",
    "    for i in range(n_samples):\n",
    "        plt.subplot(3, n_samples, 1 + n_samples + i)\n",
    "        plt.axis('off')\n",
    "        plt.imshow(X_fakeB[i])\n",
    "    # plot real target image\n",
    "    for i in range(n_samples):\n",
    "        plt.subplot(3, n_samples, 1 + n_samples*2 + i)\n",
    "        plt.axis('off')\n",
    "        plt.imshow(X_realB[i])\n",
    "    # save plot to file\n",
    "    filename1 = 'plot_%06d.png' % (step+1)\n",
    "    plt.savefig(filename1)\n",
    "    plt.close()\n",
    "    # save the generator model\n",
    "    print('>Saved: %s' % (filename1))"
   ]
  },
  {
   "cell_type": "code",
   "execution_count": 20,
   "id": "98cd4faf",
   "metadata": {},
   "outputs": [],
   "source": [
    "def train_gan(discriminator_model, generator_model, gan, dataset, n_epochs, n_batches):\n",
    "    patch_size = discriminator_model.output_shape[1]\n",
    "\n",
    "    for i in range(n_epochs):\n",
    "        [image_real, mask_real], y_real = generate_real_samples(dataset, n_batches, patch_size)\n",
    "        mask_fake, y_fake = generate_fake_maps(generator_model, image_real, patch_size)\n",
    "        # update discriminator for real samples\n",
    "        d_loss1 = discriminator_model.train_on_batch([image_real, mask_real], y_real)\n",
    "        # update discriminator for generated samples\n",
    "        d_loss2 = discriminator_model.train_on_batch([image_real, mask_fake], y_fake)\n",
    "        # update the generator\n",
    "        g_loss, _, _ = gan_model.train_on_batch(image_real, [y_real, mask_real])\n",
    "        # summarize performance\n",
    "        print('>%d, d1[%.3f] d2[%.3f] g[%.3f]' % (i+1, d_loss1, d_loss2, g_loss))\n",
    "        \n",
    "        if (i+1) % (10) == 0:\n",
    "            summarize_performance(i, generator_model, dataset)\n",
    "    \n",
    "    "
   ]
  },
  {
   "cell_type": "code",
   "execution_count": 21,
   "id": "451f6eed",
   "metadata": {},
   "outputs": [],
   "source": [
    "image_shape = dataset[0].shape[1:]"
   ]
  },
  {
   "cell_type": "code",
   "execution_count": 22,
   "id": "c4158b94",
   "metadata": {},
   "outputs": [
    {
     "data": {
      "text/plain": [
       "(512, 512, 1)"
      ]
     },
     "execution_count": 22,
     "metadata": {},
     "output_type": "execute_result"
    }
   ],
   "source": [
    "image_shape"
   ]
  },
  {
   "cell_type": "code",
   "execution_count": 23,
   "id": "b327f6b6",
   "metadata": {},
   "outputs": [
    {
     "name": "stderr",
     "output_type": "stream",
     "text": [
      "C:\\Users\\Rey Schism\\AppData\\Local\\Programs\\Python\\Python310\\lib\\site-packages\\keras\\initializers\\initializers_v2.py:120: UserWarning: The initializer RandomNormal is unseeded and being called multiple times, which will return identical values  each time (even if the initializer is unseeded). Please update your code to provide a seed to the initializer, or avoid using the same initalizer instance more than once.\n",
      "  warnings.warn(\n",
      "C:\\Users\\Rey Schism\\AppData\\Local\\Programs\\Python\\Python310\\lib\\site-packages\\keras\\optimizers\\optimizer_v2\\adam.py:114: UserWarning: The `lr` argument is deprecated, use `learning_rate` instead.\n",
      "  super().__init__(name, **kwargs)\n"
     ]
    }
   ],
   "source": [
    "discriminator_model = discriminator(image_shape)\n",
    "generator_model = generator(image_shape)"
   ]
  },
  {
   "cell_type": "code",
   "execution_count": 24,
   "id": "6de80d4e",
   "metadata": {},
   "outputs": [],
   "source": [
    "gan_model = gan(generator_model, discriminator_model, image_shape)"
   ]
  },
  {
   "cell_type": "code",
   "execution_count": 26,
   "id": "5f5fb01a",
   "metadata": {
    "scrolled": false
   },
   "outputs": [
    {
     "name": "stdout",
     "output_type": "stream",
     "text": [
      ">1, d1[0.007] d2[0.008] g[20.754]\n",
      ">2, d1[0.008] d2[0.008] g[16.558]\n",
      ">3, d1[0.006] d2[0.008] g[17.399]\n",
      ">4, d1[0.006] d2[0.007] g[16.733]\n",
      ">5, d1[0.007] d2[0.011] g[17.232]\n",
      ">6, d1[0.014] d2[0.006] g[16.866]\n",
      ">7, d1[0.005] d2[0.006] g[19.579]\n",
      ">8, d1[0.005] d2[0.006] g[17.226]\n",
      ">9, d1[0.015] d2[0.006] g[14.222]\n",
      ">10, d1[0.009] d2[0.021] g[15.775]\n",
      ">Saved: plot_000010.png\n",
      ">11, d1[0.005] d2[0.005] g[16.962]\n",
      ">12, d1[0.006] d2[0.010] g[17.808]\n",
      ">13, d1[0.008] d2[0.004] g[14.678]\n",
      ">14, d1[0.006] d2[0.009] g[14.359]\n",
      ">15, d1[0.009] d2[0.005] g[16.691]\n",
      ">16, d1[0.005] d2[0.005] g[15.234]\n",
      ">17, d1[0.005] d2[0.005] g[14.433]\n",
      ">18, d1[0.005] d2[0.005] g[15.173]\n",
      ">19, d1[0.006] d2[0.009] g[22.540]\n",
      ">20, d1[0.009] d2[0.011] g[12.737]\n",
      ">Saved: plot_000020.png\n",
      ">21, d1[0.006] d2[0.005] g[16.584]\n",
      ">22, d1[0.007] d2[0.005] g[15.250]\n",
      ">23, d1[0.005] d2[0.005] g[15.544]\n",
      ">24, d1[0.009] d2[0.013] g[16.419]\n",
      ">25, d1[0.007] d2[0.007] g[18.456]\n",
      ">26, d1[0.006] d2[0.006] g[16.618]\n",
      ">27, d1[0.032] d2[0.009] g[12.037]\n",
      ">28, d1[0.004] d2[0.031] g[14.464]\n",
      ">29, d1[0.009] d2[0.009] g[13.069]\n",
      ">30, d1[0.009] d2[0.005] g[15.192]\n",
      ">Saved: plot_000030.png\n",
      ">31, d1[0.505] d2[2.949] g[12.690]\n",
      ">32, d1[0.040] d2[1.578] g[12.915]\n",
      ">33, d1[0.195] d2[0.818] g[15.184]\n",
      ">34, d1[0.312] d2[0.426] g[14.389]\n",
      ">35, d1[0.448] d2[0.362] g[16.519]\n",
      ">36, d1[0.439] d2[0.376] g[15.883]\n",
      ">37, d1[0.398] d2[0.438] g[18.574]\n",
      ">38, d1[0.391] d2[0.389] g[15.670]\n",
      ">39, d1[0.370] d2[0.432] g[17.552]\n",
      ">40, d1[0.360] d2[0.377] g[20.093]\n",
      ">Saved: plot_000040.png\n",
      ">41, d1[0.436] d2[0.358] g[16.588]\n",
      ">42, d1[0.385] d2[0.414] g[15.851]\n",
      ">43, d1[0.423] d2[0.378] g[12.415]\n",
      ">44, d1[0.347] d2[0.410] g[16.663]\n",
      ">45, d1[0.369] d2[0.391] g[15.039]\n",
      ">46, d1[0.391] d2[0.351] g[14.704]\n",
      ">47, d1[0.388] d2[0.383] g[14.675]\n",
      ">48, d1[0.376] d2[0.390] g[14.410]\n",
      ">49, d1[0.344] d2[0.401] g[15.899]\n",
      ">50, d1[0.398] d2[0.342] g[15.990]\n",
      ">Saved: plot_000050.png\n",
      ">51, d1[0.376] d2[0.383] g[14.093]\n",
      ">52, d1[0.355] d2[0.366] g[16.497]\n",
      ">53, d1[0.394] d2[0.359] g[11.812]\n",
      ">54, d1[0.348] d2[0.396] g[13.696]\n",
      ">55, d1[0.370] d2[0.373] g[14.595]\n",
      ">56, d1[0.324] d2[0.376] g[18.995]\n",
      ">57, d1[0.397] d2[0.365] g[16.399]\n",
      ">58, d1[0.356] d2[0.341] g[15.067]\n",
      ">59, d1[0.379] d2[0.313] g[14.546]\n",
      ">60, d1[0.369] d2[0.340] g[13.790]\n",
      ">Saved: plot_000060.png\n",
      ">61, d1[0.330] d2[0.357] g[14.484]\n",
      ">62, d1[0.386] d2[0.323] g[12.881]\n",
      ">63, d1[0.334] d2[0.336] g[12.253]\n",
      ">64, d1[0.351] d2[0.460] g[12.267]\n",
      ">65, d1[0.307] d2[0.366] g[13.452]\n",
      ">66, d1[0.352] d2[0.304] g[12.978]\n",
      ">67, d1[0.366] d2[0.262] g[11.792]\n",
      ">68, d1[0.347] d2[0.228] g[12.137]\n",
      ">69, d1[0.254] d2[0.251] g[14.346]\n",
      ">70, d1[0.218] d2[0.398] g[11.550]\n",
      ">Saved: plot_000070.png\n",
      ">71, d1[0.294] d2[0.303] g[12.656]\n",
      ">72, d1[0.479] d2[0.390] g[16.430]\n",
      ">73, d1[0.388] d2[0.347] g[10.250]\n",
      ">74, d1[0.294] d2[0.326] g[12.793]\n",
      ">75, d1[0.271] d2[0.358] g[14.570]\n",
      ">76, d1[0.393] d2[0.180] g[13.927]\n",
      ">77, d1[0.250] d2[0.266] g[15.352]\n",
      ">78, d1[0.282] d2[0.323] g[13.930]\n",
      ">79, d1[0.356] d2[0.132] g[13.169]\n",
      ">80, d1[0.239] d2[0.136] g[12.702]\n",
      ">Saved: plot_000080.png\n",
      ">81, d1[0.167] d2[0.072] g[12.935]\n",
      ">82, d1[0.192] d2[0.148] g[12.511]\n",
      ">83, d1[0.561] d2[0.759] g[13.036]\n",
      ">84, d1[0.141] d2[0.566] g[12.740]\n",
      ">85, d1[0.311] d2[0.284] g[11.348]\n",
      ">86, d1[0.288] d2[0.225] g[12.887]\n",
      ">87, d1[0.227] d2[0.200] g[12.605]\n",
      ">88, d1[0.244] d2[0.193] g[12.447]\n",
      ">89, d1[0.293] d2[0.076] g[13.428]\n",
      ">90, d1[0.150] d2[0.155] g[12.080]\n",
      ">Saved: plot_000090.png\n",
      ">91, d1[0.231] d2[0.084] g[10.980]\n",
      ">92, d1[0.065] d2[0.043] g[13.259]\n",
      ">93, d1[0.065] d2[0.047] g[13.437]\n",
      ">94, d1[0.107] d2[0.050] g[13.036]\n",
      ">95, d1[0.050] d2[0.023] g[13.791]\n",
      ">96, d1[0.077] d2[0.022] g[12.015]\n",
      ">97, d1[0.046] d2[0.045] g[11.967]\n",
      ">98, d1[0.041] d2[0.028] g[11.912]\n",
      ">99, d1[0.054] d2[0.014] g[11.463]\n",
      ">100, d1[0.035] d2[0.016] g[13.064]\n",
      ">Saved: plot_000100.png\n",
      ">101, d1[0.035] d2[0.013] g[11.298]\n",
      ">102, d1[0.024] d2[0.012] g[12.322]\n",
      ">103, d1[0.015] d2[0.010] g[11.534]\n",
      ">104, d1[0.036] d2[0.026] g[12.223]\n",
      ">105, d1[0.023] d2[0.008] g[10.900]\n",
      ">106, d1[0.070] d2[0.046] g[8.561]\n",
      ">107, d1[0.014] d2[0.024] g[16.348]\n",
      ">108, d1[0.031] d2[0.010] g[9.836]\n",
      ">109, d1[0.010] d2[0.016] g[12.825]\n",
      ">110, d1[0.044] d2[0.011] g[9.550]\n",
      ">Saved: plot_000110.png\n",
      ">111, d1[0.009] d2[0.053] g[15.421]\n",
      ">112, d1[0.508] d2[2.198] g[10.430]\n",
      ">113, d1[0.037] d2[1.137] g[15.860]\n",
      ">114, d1[0.129] d2[0.683] g[15.291]\n",
      ">115, d1[0.272] d2[0.463] g[15.182]\n",
      ">116, d1[0.391] d2[0.359] g[14.440]\n",
      ">117, d1[0.409] d2[0.374] g[14.254]\n",
      ">118, d1[0.395] d2[0.362] g[13.535]\n",
      ">119, d1[0.387] d2[0.366] g[12.340]\n",
      ">120, d1[0.386] d2[0.369] g[10.401]\n",
      ">Saved: plot_000120.png\n",
      ">121, d1[0.337] d2[0.435] g[19.083]\n",
      ">122, d1[0.343] d2[0.375] g[14.535]\n",
      ">123, d1[0.377] d2[0.370] g[12.225]\n",
      ">124, d1[0.301] d2[0.382] g[16.835]\n",
      ">125, d1[0.377] d2[0.370] g[10.549]\n",
      ">126, d1[0.392] d2[0.366] g[11.521]\n",
      ">127, d1[0.423] d2[0.345] g[10.619]\n",
      ">128, d1[0.366] d2[0.344] g[11.344]\n",
      ">129, d1[0.372] d2[0.393] g[11.677]\n",
      ">130, d1[0.366] d2[0.387] g[8.491]\n",
      ">Saved: plot_000130.png\n",
      ">131, d1[0.347] d2[0.400] g[9.561]\n",
      ">132, d1[0.354] d2[0.363] g[8.884]\n",
      ">133, d1[0.305] d2[0.378] g[11.729]\n",
      ">134, d1[0.353] d2[0.361] g[11.227]\n",
      ">135, d1[0.401] d2[0.352] g[10.729]\n",
      ">136, d1[0.397] d2[0.379] g[12.905]\n",
      ">137, d1[0.335] d2[0.369] g[12.565]\n",
      ">138, d1[0.308] d2[0.377] g[13.263]\n",
      ">139, d1[0.301] d2[0.391] g[10.763]\n",
      ">140, d1[0.394] d2[0.325] g[11.404]\n",
      ">Saved: plot_000140.png\n",
      ">141, d1[0.361] d2[0.345] g[9.966]\n",
      ">142, d1[0.329] d2[0.355] g[12.158]\n",
      ">143, d1[0.366] d2[0.342] g[10.117]\n",
      ">144, d1[0.337] d2[0.341] g[11.514]\n",
      ">145, d1[0.283] d2[0.376] g[11.525]\n",
      ">146, d1[0.382] d2[0.315] g[9.783]\n",
      ">147, d1[0.296] d2[0.326] g[12.167]\n",
      ">148, d1[0.365] d2[0.305] g[8.794]\n",
      ">149, d1[0.251] d2[0.358] g[11.438]\n",
      ">150, d1[0.283] d2[0.291] g[11.862]\n",
      ">Saved: plot_000150.png\n",
      ">151, d1[0.285] d2[0.222] g[12.837]\n",
      ">152, d1[0.355] d2[0.197] g[9.941]\n",
      ">153, d1[0.194] d2[0.177] g[13.670]\n",
      ">154, d1[0.234] d2[0.182] g[11.328]\n",
      ">155, d1[0.597] d2[0.481] g[8.283]\n",
      ">156, d1[0.260] d2[0.387] g[10.750]\n",
      ">157, d1[0.266] d2[0.373] g[10.285]\n",
      ">158, d1[0.283] d2[0.297] g[10.703]\n",
      ">159, d1[0.201] d2[0.231] g[10.581]\n",
      ">160, d1[0.245] d2[0.216] g[10.085]\n",
      ">Saved: plot_000160.png\n",
      ">161, d1[0.317] d2[0.123] g[9.622]\n",
      ">162, d1[0.188] d2[0.086] g[10.810]\n",
      ">163, d1[0.126] d2[0.132] g[11.126]\n",
      ">164, d1[0.160] d2[0.072] g[14.109]\n",
      ">165, d1[0.253] d2[0.248] g[11.022]\n",
      ">166, d1[0.208] d2[0.024] g[7.812]\n",
      ">167, d1[0.127] d2[0.038] g[8.801]\n",
      ">168, d1[0.043] d2[0.019] g[10.359]\n",
      ">169, d1[0.037] d2[0.006] g[9.965]\n",
      ">170, d1[0.032] d2[0.011] g[9.616]\n",
      ">Saved: plot_000170.png\n",
      ">171, d1[0.026] d2[0.009] g[8.827]\n",
      ">172, d1[0.022] d2[0.008] g[9.682]\n",
      ">173, d1[0.021] d2[0.008] g[8.934]\n",
      ">174, d1[0.018] d2[0.007] g[9.994]\n",
      ">175, d1[0.015] d2[0.006] g[9.137]\n",
      ">176, d1[0.014] d2[0.006] g[10.403]\n",
      ">177, d1[0.018] d2[0.006] g[10.591]\n",
      ">178, d1[0.010] d2[0.004] g[10.611]\n",
      ">179, d1[0.014] d2[0.009] g[10.544]\n",
      ">180, d1[0.011] d2[0.006] g[9.151]\n",
      ">Saved: plot_000180.png\n",
      ">181, d1[0.019] d2[0.004] g[12.341]\n",
      ">182, d1[0.013] d2[0.005] g[10.778]\n",
      ">183, d1[0.010] d2[0.003] g[9.519]\n",
      ">184, d1[0.017] d2[0.006] g[9.852]\n",
      ">185, d1[0.013] d2[0.021] g[10.112]\n",
      ">186, d1[0.009] d2[0.006] g[11.200]\n",
      ">187, d1[0.016] d2[0.003] g[9.889]\n",
      ">188, d1[0.029] d2[0.003] g[8.226]\n",
      ">189, d1[0.007] d2[0.013] g[9.830]\n",
      ">190, d1[0.007] d2[0.011] g[11.966]\n",
      ">Saved: plot_000190.png\n",
      ">191, d1[0.009] d2[0.003] g[9.107]\n",
      ">192, d1[0.010] d2[0.003] g[10.702]\n",
      ">193, d1[0.008] d2[0.003] g[10.328]\n",
      ">194, d1[0.006] d2[0.003] g[10.878]\n",
      ">195, d1[0.009] d2[0.003] g[11.026]\n",
      ">196, d1[0.007] d2[0.004] g[9.675]\n",
      ">197, d1[0.015] d2[0.026] g[13.208]\n",
      ">198, d1[0.015] d2[0.002] g[8.440]\n",
      ">199, d1[0.013] d2[0.004] g[11.341]\n",
      ">200, d1[0.007] d2[0.002] g[9.477]\n",
      ">Saved: plot_000200.png\n",
      ">201, d1[0.006] d2[0.003] g[9.986]\n",
      ">202, d1[0.014] d2[0.003] g[8.423]\n",
      ">203, d1[0.005] d2[0.002] g[10.414]\n",
      ">204, d1[0.005] d2[0.002] g[10.631]\n",
      ">205, d1[0.005] d2[0.002] g[11.020]\n",
      ">206, d1[0.005] d2[0.002] g[9.007]\n",
      ">207, d1[0.004] d2[0.002] g[9.275]\n",
      ">208, d1[0.004] d2[0.003] g[13.893]\n",
      ">209, d1[0.005] d2[0.002] g[9.254]\n",
      ">210, d1[0.006] d2[0.004] g[11.481]\n",
      ">Saved: plot_000210.png\n",
      ">211, d1[0.004] d2[0.001] g[9.527]\n",
      ">212, d1[0.007] d2[0.005] g[10.844]\n",
      ">213, d1[0.004] d2[0.002] g[8.509]\n",
      ">214, d1[0.004] d2[0.002] g[10.028]\n",
      ">215, d1[0.006] d2[0.002] g[10.235]\n",
      ">216, d1[0.004] d2[0.002] g[11.195]\n",
      ">217, d1[0.003] d2[0.002] g[9.697]\n",
      ">218, d1[0.005] d2[0.002] g[8.462]\n"
     ]
    },
    {
     "name": "stdout",
     "output_type": "stream",
     "text": [
      ">219, d1[0.006] d2[0.002] g[8.150]\n",
      ">220, d1[0.003] d2[0.002] g[9.708]\n",
      ">Saved: plot_000220.png\n",
      ">221, d1[0.003] d2[0.003] g[12.212]\n",
      ">222, d1[0.005] d2[0.002] g[10.554]\n",
      ">223, d1[0.018] d2[0.008] g[7.260]\n",
      ">224, d1[0.006] d2[0.002] g[7.390]\n",
      ">225, d1[0.004] d2[0.003] g[8.312]\n",
      ">226, d1[0.003] d2[0.004] g[9.983]\n",
      ">227, d1[0.003] d2[0.002] g[8.677]\n",
      ">228, d1[0.003] d2[0.003] g[10.188]\n",
      ">229, d1[0.004] d2[0.005] g[9.435]\n",
      ">230, d1[0.003] d2[0.002] g[9.110]\n",
      ">Saved: plot_000230.png\n",
      ">231, d1[0.003] d2[0.002] g[10.451]\n",
      ">232, d1[0.004] d2[0.003] g[8.750]\n",
      ">233, d1[0.004] d2[0.001] g[9.053]\n",
      ">234, d1[0.002] d2[0.003] g[11.056]\n",
      ">235, d1[0.006] d2[0.002] g[8.332]\n",
      ">236, d1[0.002] d2[0.004] g[8.646]\n",
      ">237, d1[0.004] d2[0.002] g[7.574]\n",
      ">238, d1[0.002] d2[0.002] g[10.926]\n",
      ">239, d1[0.003] d2[0.003] g[8.539]\n",
      ">240, d1[0.003] d2[0.002] g[10.370]\n",
      ">Saved: plot_000240.png\n",
      ">241, d1[0.003] d2[0.002] g[9.285]\n",
      ">242, d1[0.005] d2[0.002] g[7.762]\n",
      ">243, d1[0.003] d2[0.002] g[10.226]\n",
      ">244, d1[0.003] d2[0.002] g[9.273]\n",
      ">245, d1[0.003] d2[0.002] g[10.156]\n",
      ">246, d1[0.002] d2[0.001] g[12.620]\n",
      ">247, d1[0.002] d2[0.003] g[9.805]\n",
      ">248, d1[0.003] d2[0.002] g[9.184]\n",
      ">249, d1[0.002] d2[0.003] g[12.549]\n",
      ">250, d1[0.003] d2[0.002] g[9.203]\n",
      ">Saved: plot_000250.png\n",
      ">251, d1[0.002] d2[0.002] g[9.680]\n",
      ">252, d1[0.013] d2[0.004] g[6.780]\n",
      ">253, d1[0.005] d2[0.002] g[10.409]\n",
      ">254, d1[0.002] d2[0.003] g[13.773]\n",
      ">255, d1[0.002] d2[0.003] g[10.011]\n",
      ">256, d1[0.003] d2[0.003] g[9.354]\n",
      ">257, d1[0.002] d2[0.002] g[9.555]\n",
      ">258, d1[0.002] d2[0.002] g[9.376]\n",
      ">259, d1[0.002] d2[0.002] g[8.992]\n",
      ">260, d1[0.002] d2[0.002] g[13.205]\n",
      ">Saved: plot_000260.png\n",
      ">261, d1[0.002] d2[0.002] g[9.935]\n",
      ">262, d1[0.003] d2[0.002] g[8.512]\n",
      ">263, d1[0.002] d2[0.002] g[8.990]\n",
      ">264, d1[0.002] d2[0.002] g[8.849]\n",
      ">265, d1[0.002] d2[0.002] g[10.752]\n",
      ">266, d1[0.005] d2[0.001] g[7.113]\n",
      ">267, d1[0.003] d2[0.001] g[8.432]\n",
      ">268, d1[0.005] d2[0.002] g[7.557]\n",
      ">269, d1[0.002] d2[0.004] g[9.696]\n",
      ">270, d1[0.003] d2[0.001] g[9.854]\n",
      ">Saved: plot_000270.png\n",
      ">271, d1[0.003] d2[0.004] g[10.874]\n",
      ">272, d1[0.002] d2[0.002] g[9.772]\n",
      ">273, d1[0.002] d2[0.001] g[9.680]\n",
      ">274, d1[0.002] d2[0.001] g[9.132]\n",
      ">275, d1[0.003] d2[0.001] g[7.026]\n",
      ">276, d1[0.002] d2[0.001] g[8.503]\n",
      ">277, d1[0.002] d2[0.005] g[9.282]\n",
      ">278, d1[0.002] d2[0.001] g[8.851]\n",
      ">279, d1[0.002] d2[0.002] g[9.070]\n",
      ">280, d1[0.003] d2[0.001] g[8.321]\n",
      ">Saved: plot_000280.png\n",
      ">281, d1[0.003] d2[0.002] g[9.671]\n",
      ">282, d1[0.002] d2[0.001] g[9.459]\n",
      ">283, d1[0.004] d2[0.001] g[8.316]\n",
      ">284, d1[0.002] d2[0.002] g[7.748]\n",
      ">285, d1[0.002] d2[0.004] g[8.654]\n",
      ">286, d1[0.002] d2[0.002] g[8.285]\n",
      ">287, d1[0.002] d2[0.001] g[8.721]\n",
      ">288, d1[0.004] d2[0.001] g[7.296]\n",
      ">289, d1[0.002] d2[0.001] g[8.250]\n",
      ">290, d1[0.002] d2[0.001] g[7.105]\n",
      ">Saved: plot_000290.png\n",
      ">291, d1[0.002] d2[0.001] g[7.870]\n",
      ">292, d1[0.003] d2[0.002] g[7.942]\n",
      ">293, d1[0.002] d2[0.002] g[7.674]\n",
      ">294, d1[0.002] d2[0.001] g[10.501]\n",
      ">295, d1[0.001] d2[0.003] g[10.295]\n",
      ">296, d1[0.003] d2[0.001] g[6.961]\n",
      ">297, d1[0.002] d2[0.001] g[8.606]\n",
      ">298, d1[0.003] d2[0.001] g[6.825]\n",
      ">299, d1[0.001] d2[0.001] g[8.377]\n",
      ">300, d1[0.001] d2[0.002] g[9.465]\n",
      ">Saved: plot_000300.png\n"
     ]
    }
   ],
   "source": [
    "train_gan(discriminator_model,generator_model,gan,dataset,300,1)"
   ]
  },
  {
   "cell_type": "code",
   "execution_count": 27,
   "id": "a18b1c2d",
   "metadata": {},
   "outputs": [
    {
     "name": "stderr",
     "output_type": "stream",
     "text": [
      "40it [00:00, 101.77it/s]\n"
     ]
    }
   ],
   "source": [
    "test_dataset = create_dataset(test_X,test_y)"
   ]
  },
  {
   "cell_type": "code",
   "execution_count": 37,
   "id": "fad47838",
   "metadata": {
    "scrolled": true
   },
   "outputs": [
    {
     "data": {
      "text/plain": [
       "<matplotlib.image.AxesImage at 0x1ea8b479c60>"
      ]
     },
     "execution_count": 37,
     "metadata": {},
     "output_type": "execute_result"
    },
    {
     "data": {
      "image/png": "[encoded data removed]",
      "text/plain": [
       "<Figure size 432x288 with 1 Axes>"
      ]
     },
     "metadata": {
      "needs_background": "light"
     },
     "output_type": "display_data"
    }
   ],
   "source": [
    "plt.imshow(test_dataset[1][10],cmap=\"gray\")"
   ]
  },
  {
   "cell_type": "code",
   "execution_count": 38,
   "id": "87158553",
   "metadata": {},
   "outputs": [],
   "source": [
    "mask_fake, _ = generate_fake_maps(generator_model, test_dataset[0][10:11], 10)"
   ]
  },
  {
   "cell_type": "code",
   "execution_count": 39,
   "id": "1acde52c",
   "metadata": {},
   "outputs": [
    {
     "data": {
      "text/plain": [
       "<matplotlib.image.AxesImage at 0x1ea8b50dba0>"
      ]
     },
     "execution_count": 39,
     "metadata": {},
     "output_type": "execute_result"
    },
    {
     "data": {
      "image/png": "[encoded data removed]",
      "text/plain": [
       "<Figure size 432x288 with 1 Axes>"
      ]
     },
     "metadata": {
      "needs_background": "light"
     },
     "output_type": "display_data"
    }
   ],
   "source": [
    "plt.imshow((np.array(mask_fake[0])+1)/2,cmap=\"gray\")"
   ]
  },
  {
   "cell_type": "code",
   "execution_count": null,
   "id": "51422f26",
   "metadata": {},
   "outputs": [],
   "source": []
  }
 ],
 "metadata": {
  "kernelspec": {
   "display_name": "Python 3 (ipykernel)",
   "language": "python",
   "name": "python3"
  },
  "language_info": {
   "codemirror_mode": {
    "name": "ipython",
    "version": 3
   },
   "file_extension": ".py",
   "mimetype": "text/x-python",
   "name": "python",
   "nbconvert_exporter": "python",
   "pygments_lexer": "ipython3",
   "version": "3.10.2"
  }
 },
 "nbformat": 4,
 "nbformat_minor": 5
}
